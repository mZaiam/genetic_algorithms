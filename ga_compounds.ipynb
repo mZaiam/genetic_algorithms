{
 "cells": [
  {
   "cell_type": "markdown",
   "id": "fb32f78d-047d-4860-a4fd-491436861841",
   "metadata": {},
   "source": [
    "# Multi-objetctive optimization problem - Genetic Algorithms"
   ]
  },
  {
   "cell_type": "code",
   "execution_count": 1,
   "id": "5f5337b0-d96f-4f79-9819-031404c3e4fb",
   "metadata": {},
   "outputs": [],
   "source": [
    "import timeit\n",
    "import matplotlib.pyplot as plt\n",
    "\n",
    "from ga_compounds import PRICE, ATOMIC_WEIGHT\n",
    "from ga_compounds import population_cp\n",
    "from ga_compounds import population_fitness_cp\n",
    "from ga_compounds import population_element_mutation_cp, population_weight_mutation_cp \n",
    "from ga_compounds import population_pair_crossover_cp\n",
    "from ga_compounds import tournament_selection_cp, roulette_selection_cp"
   ]
  },
  {
   "cell_type": "markdown",
   "id": "b312aa29-1eb2-4e6c-8d10-4b3762256542",
   "metadata": {},
   "source": [
    "## Problem "
   ]
  },
  {
   "cell_type": "markdown",
   "id": "e53f8283-be2a-4841-a9a6-325f4e57954d",
   "metadata": {},
   "source": [
    "The problem here is a multiple-objective optimization problem. We have two dictionaries giving information about the prices and weights of atoms. The objetctive is to form compounds of the form xAyBzC, where the upper case letters are elements, and the lower case ones are molar proportions. We have the constraints that $x+y+z=100$, and all of them must be greater or equal to 5. The objective is to obtain the compound with the lowest weight and highest price. The individuals were represented as a list with two lists: the first one containing the elements, and the second one containing the values $x$, $y$ and $z$.\n",
    "\n",
    "The operators utilized were:\n",
    "- Element mutation: mutates one or more elements from an individual. It contains a mutation rate, that determines whether the individual will be mutated or not, and an element mutation rate, that determines whether an element will be changed or not.\n",
    "\n",
    "- Weight mutation: mutates two weights of the individual. We calculate the minimum distance $D$ from the weights to the boundaries of their possible values, in this case 5 and 90, and then choose a random value in the uniform distribution from $-D$ to $D$. We then add this value to one of the weights, and subtract from the other one, maintaining the initial conditions for the weights.\n",
    "\n",
    "- Pair crossover: recombinates the elements and weights from two different solutions.\n",
    "\n",
    "- Tournament selection: randomly selects a certain amount of individual in the population and chooses the best fitness among them.\n",
    "\n",
    "- Roulette selection: each individual is selected with probability proportional to its fitness. \n",
    "\n",
    "The objective function defined had to contemplate both the maximization of the price and the minimization of the weight. This way, we choosed to maximize the following function:\n",
    "\\begin{equation}\n",
    "f(X) = P(X) - W(X)\n",
    "\\end{equation}\n",
    "Where $P(X)$ and $W(X)$ are the price and weights of individual $X$. Note that maximizing this function also includes minimizing the weight, because of the minus sign in front of it. These functions are calculated using the dictionaries `PRICE` and `ATOMIC_WEIGHT` with the weights and elements from the individuals. Note that we normalized the weights and prices by their maximum possible value, to certify that the absolute values of the two functions do not leed to a biased choice of individuals."
   ]
  },
  {
   "cell_type": "markdown",
   "id": "42e89b06-026d-4215-9224-ef7ea4dc9f0d",
   "metadata": {},
   "source": [
    "## Simulations"
   ]
  },
  {
   "cell_type": "markdown",
   "id": "2d38855e-2af4-4c19-ba28-2c9ef6e4ec16",
   "metadata": {},
   "source": [
    "Defining the constants of the problem, which can be modified."
   ]
  },
  {
   "cell_type": "code",
   "execution_count": 2,
   "id": "44420069-2ab5-46f6-873c-6ca7b4854df5",
   "metadata": {},
   "outputs": [],
   "source": [
    "NUMBER_ELEMENTS = 3\n",
    "\n",
    "GENERATIONS = 500\n",
    "POPULATION_SIZE = 1000\n",
    "INDIVIDUAL_MUTATION_RATE = 0.1\n",
    "ELEMENT_MUTATION_RATE = 0.3\n",
    "WEIGHT_MUTATION_RATE = 0.1\n",
    "CROSSOVER_RATE = 0.5\n",
    "NUMBER_INDIVIDUALS_TOURNAMENT = 15"
   ]
  },
  {
   "cell_type": "markdown",
   "id": "8350c706-5578-4864-ae17-3dfeb36a4ab4",
   "metadata": {},
   "source": [
    "Generating the keyword `KW` and the initial population, and applying the GA."
   ]
  },
  {
   "cell_type": "code",
   "execution_count": 3,
   "id": "7e63a1a9-6414-4381-9b72-6f44e68658d9",
   "metadata": {},
   "outputs": [],
   "source": [
    "population = population_cp(POPULATION_SIZE, num_elements=NUMBER_ELEMENTS)\n",
    "hof = []\n",
    "\n",
    "start = timeit.default_timer()\n",
    "\n",
    "for _ in range(GENERATIONS):\n",
    "    #Fitness calculation and selection\n",
    "    fitness = population_fitness_cp(population)\n",
    "    #selected_population = tournament_selection_cp(population, fitness, NUMBER_INDIVIDUALS_TOURNAMENT)\n",
    "    selected_population = roulette_selection_cp(population, fitness)\n",
    "    \n",
    "    #Crossover\n",
    "    crossover_population = population_pair_crossover_cp(selected_population, CROSSOVER_RATE)\n",
    "    \n",
    "    #Element and weight mutation\n",
    "    element_mutated_population = population_element_mutation_cp(crossover_population, \n",
    "                                                                individual_mutation_rate=INDIVIDUAL_MUTATION_RATE,\n",
    "                                                                element_mutation_rate=ELEMENT_MUTATION_RATE)\n",
    "    weight_mutated_population = population_weight_mutation_cp(element_mutated_population, \n",
    "                                                              WEIGHT_MUTATION_RATE)\n",
    "    \n",
    "    #HOF atualization\n",
    "    fitness = population_fitness_cp(weight_mutated_population)\n",
    "    best_fitness = max(fitness)\n",
    "    index = fitness.index(best_fitness)\n",
    "    best_individual = weight_mutated_population[index]\n",
    "    hof.append(best_individual)\n",
    "        \n",
    "    #Restarting the population\n",
    "    population = weight_mutated_population\n",
    "\n",
    "end = timeit.default_timer()"
   ]
  },
  {
   "cell_type": "markdown",
   "id": "e6476a04-2be2-440c-8c7a-b19c77bb7522",
   "metadata": {},
   "source": [
    "Printing some information about our simulation."
   ]
  },
  {
   "cell_type": "code",
   "execution_count": 4,
   "id": "77f88249-354f-412c-91e4-8fd6f2297da2",
   "metadata": {},
   "outputs": [
    {
     "name": "stdout",
     "output_type": "stream",
     "text": [
      "solution: [['Po', 'Tc', 'Pu'], [90.0, 5.0, 5.00000000000004]]\n",
      "\n",
      "best_fitness=0.149\n",
      "\n",
      "price=4428032950000.000, weight=20519.536\n",
      "\n",
      "runtime=9.341s\n"
     ]
    }
   ],
   "source": [
    "fitness = population_fitness_cp(hof)\n",
    "best_fitness = max(fitness)\n",
    "index = fitness.index(best_fitness)\n",
    "solution = hof[index]\n",
    "\n",
    "elements, weights = solution[0], solution[1] \n",
    "weight, price = 0, 0\n",
    "\n",
    "for i in range(len(elements)):\n",
    "    weight += ATOMIC_WEIGHT[elements[i]] * weights[i]\n",
    "    price += PRICE[elements[i]] * weights[i]\n",
    "\n",
    "print(f'solution: {solution}')\n",
    "print()\n",
    "print(f'best_fitness={best_fitness:.3f}')\n",
    "print()\n",
    "print(f'price={price:.3f}, weight={weight:.3f}')\n",
    "print()\n",
    "print(f'runtime={(end - start):.3f}s')"
   ]
  },
  {
   "cell_type": "markdown",
   "id": "14f27e1a-a9bd-4f80-9161-7f2ad51bb3d9",
   "metadata": {},
   "source": [
    "## Multiple Simulations"
   ]
  },
  {
   "cell_type": "markdown",
   "id": "a97916ea-d884-45ac-b055-74cc0300204f",
   "metadata": {},
   "source": [
    "Now, we will run this algorithm multiple times and compare the best solutions obtained."
   ]
  },
  {
   "cell_type": "code",
   "execution_count": 5,
   "id": "b8ab1da6-576a-4525-9515-57e06059d30f",
   "metadata": {},
   "outputs": [],
   "source": [
    "HOF = []\n",
    "\n",
    "for _ in range(20):\n",
    "    population = population_cp(POPULATION_SIZE, num_elements=NUMBER_ELEMENTS)\n",
    "    hof = []\n",
    "\n",
    "    for _ in range(GENERATIONS):\n",
    "        #Fitness calculation and selection\n",
    "        fitness = population_fitness_cp(population)\n",
    "        #selected_population = tournament_selection_cp(population, fitness, NUMBER_INDIVIDUALS_TOURNAMENT)\n",
    "        selected_population = roulette_selection_cp(population, fitness)\n",
    "\n",
    "        #Crossover\n",
    "        crossover_population = population_pair_crossover_cp(selected_population, CROSSOVER_RATE)\n",
    "\n",
    "        #Element and weight mutation\n",
    "        element_mutated_population = population_element_mutation_cp(crossover_population, \n",
    "                                                                    individual_mutation_rate=INDIVIDUAL_MUTATION_RATE,\n",
    "                                                                    element_mutation_rate=ELEMENT_MUTATION_RATE)\n",
    "        weight_mutated_population = population_weight_mutation_cp(element_mutated_population, \n",
    "                                                                  WEIGHT_MUTATION_RATE)\n",
    "\n",
    "        #HOF atualization\n",
    "        fitness = population_fitness_cp(weight_mutated_population)\n",
    "        best_fitness = max(fitness)\n",
    "        index = fitness.index(best_fitness)\n",
    "        best_individual = weight_mutated_population[index]\n",
    "        hof.append(best_individual)\n",
    "\n",
    "        #Restarting the population\n",
    "        population = weight_mutated_population\n",
    "    \n",
    "    #Finding the best solution from the iteration\n",
    "    fitness = population_fitness_cp(hof)\n",
    "    best_fitness = max(fitness)\n",
    "    index = fitness.index(best_fitness)\n",
    "    solution = hof[index]\n",
    "    \n",
    "    HOF.append(solution)"
   ]
  },
  {
   "cell_type": "markdown",
   "id": "1f247b04-6b69-4fbe-a9dc-66a4d52fb79e",
   "metadata": {},
   "source": [
    "Calculating the weights and prices of the best solutions."
   ]
  },
  {
   "cell_type": "code",
   "execution_count": 6,
   "id": "43c32f7c-e8e2-43c0-9f55-5a70fac8f9d3",
   "metadata": {},
   "outputs": [],
   "source": [
    "SOLUTION_PRICES = []\n",
    "SOLUTION_WEIGHTS = []\n",
    "\n",
    "for solution in HOF:\n",
    "    elements, weights = solution[0], solution[1] \n",
    "    weight, price = 0, 0\n",
    "\n",
    "    for i in range(len(elements)):\n",
    "        weight += ATOMIC_WEIGHT[elements[i]] * weights[i]\n",
    "        price += PRICE[elements[i]] * weights[i]\n",
    "        \n",
    "    SOLUTION_PRICES.append(price)\n",
    "    SOLUTION_WEIGHTS.append(weight)"
   ]
  },
  {
   "cell_type": "markdown",
   "id": "8baa3d39-cb75-4071-bb0a-87be07b3545d",
   "metadata": {},
   "source": [
    "Ploting the data."
   ]
  },
  {
   "cell_type": "code",
   "execution_count": 7,
   "id": "70507612-79a1-412b-b2e4-4b200b1a542c",
   "metadata": {},
   "outputs": [
    {
     "data": {
      "image/png": "[encoded data removed]",
      "text/plain": [
       "<Figure size 640x480 with 1 Axes>"
      ]
     },
     "metadata": {},
     "output_type": "display_data"
    }
   ],
   "source": [
    "x = [i for i in range(len(SOLUTION_PRICES))]\n",
    "\n",
    "plt.scatter(x, SOLUTION_PRICES, label='Prices')\n",
    "plt.scatter(x, SOLUTION_WEIGHTS, label='Weights')\n",
    "plt.title('Prices and weights for the best solutions.')\n",
    "plt.legend()\n",
    "plt.show()"
   ]
  },
  {
   "cell_type": "code",
   "execution_count": 8,
   "id": "8189230a-5769-47a7-aeb6-10a5ef7fba9f",
   "metadata": {},
   "outputs": [
    {
     "name": "stdout",
     "output_type": "stream",
     "text": [
      "solution: [['Po', 'O', 'N'], [89.99689905312553, 5.003100940438446, 5.000000006436]]\n",
      "\n",
      "best_fitness=0.212\n",
      "\n",
      "price=4427847433415.247, weight=18959.432\n"
     ]
    }
   ],
   "source": [
    "fitness = population_fitness_cp(HOF)\n",
    "best_fitness = max(fitness)\n",
    "index = fitness.index(best_fitness)\n",
    "solution = HOF[index]\n",
    "\n",
    "elements, weights = solution[0], solution[1] \n",
    "weight, price = 0, 0\n",
    "\n",
    "for i in range(len(elements)):\n",
    "    weight += ATOMIC_WEIGHT[elements[i]] * weights[i]\n",
    "    price += PRICE[elements[i]] * weights[i]\n",
    "\n",
    "print(f'solution: {solution}')\n",
    "print()\n",
    "print(f'best_fitness={best_fitness:.3f}')\n",
    "print()\n",
    "print(f'price={price:.3f}, weight={weight:.3f}')"
   ]
  },
  {
   "cell_type": "markdown",
   "id": "70b4ab2e-31fe-4ba0-8aca-530b7fd2ecff",
   "metadata": {},
   "source": [
    "Here we observe that the algorithm finds a way to include the most expensive element `Po` with the highest amount of weight it can possibly achieve, and then simply choose other lean elements. We also noticed that the convergence was much better using the roullete selection than using the tournament selection. "
   ]
  }
 ],
 "metadata": {
  "kernelspec": {
   "display_name": "ilumpy",
   "language": "python",
   "name": "ilumpy"
  },
  "language_info": {
   "codemirror_mode": {
    "name": "ipython",
    "version": 3
   },
   "file_extension": ".py",
   "mimetype": "text/x-python",
   "name": "python",
   "nbconvert_exporter": "python",
   "pygments_lexer": "ipython3",
   "version": "3.10.8"
  }
 },
 "nbformat": 4,
 "nbformat_minor": 5
}
