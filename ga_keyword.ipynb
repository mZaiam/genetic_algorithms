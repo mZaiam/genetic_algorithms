{
 "cells": [
  {
   "cell_type": "markdown",
   "id": "3981f08d-c92f-412e-bec6-6f21d7e6a39c",
   "metadata": {
    "tags": []
   },
   "source": [
    "# Keyword Problem - Genetic Algorithms"
   ]
  },
  {
   "cell_type": "markdown",
   "id": "69315f57-416d-4023-9226-418716475859",
   "metadata": {},
   "source": [
    "### Matheus Zaia"
   ]
  },
  {
   "cell_type": "code",
   "execution_count": 67,
   "id": "d93af168-b3b5-4723-9c98-91b6ef8a9d64",
   "metadata": {},
   "outputs": [],
   "source": [
    "import timeit \n",
    "\n",
    "from ga_keyword import population_kw, individual_kw\n",
    "from ga_keyword import population_fitness_kw\n",
    "from ga_keyword import population_gene_mutation_kw\n",
    "from ga_keyword import population_size_mutation_kw\n",
    "from ga_keyword import population_size_adaptative_crossover_kw\n",
    "from ga_keyword import roulette_selection_kw"
   ]
  },
  {
   "cell_type": "markdown",
   "id": "11c8715c-57a3-4a38-8e75-f3af1cf2b29a",
   "metadata": {},
   "source": [
    "## Problem "
   ]
  },
  {
   "cell_type": "markdown",
   "id": "df355ba2-ea03-44e2-8499-bfeb0ea538ea",
   "metadata": {},
   "source": [
    "As a general Genetic Algorithm (GA), we have a optimization question. Here, we have a keyword, represented by a list of characters, which includes upper and lower case letters and numbers, and varies from 1 to 30 characters. The objective of this problem is to design a GA to get to this keyword, or something close to it. \n",
    "\n",
    "The operators utilized were:\n",
    "- Gene mutation: each individual has a certain probability of having one of its genes mutated. This could turn a solution like `['a', 'b', 'c']` into another one like `['a', '3', 'c']`.\n",
    "\n",
    "- Size mutation: each individual has a certain probability of having its size changed. This operator adds random genes if the new size is bigger than the older one, and removes, iteratively, the last element from the solution if the new size is smaller than the original one.\n",
    "\n",
    "- Size adapative crossover: two solutions combine to create two new solutions. We only apply this to different solutions that are different sizes, although there would be no problem adding a condition to use this to equally long solutions. We choose the smallest solution, and then exchange it with the beggining of the bigger solution. An example would be that `['a', 'b', 'c']` and `['1']` would return `['1', 'b', 'c']` and `['a']` as new solutions.\n",
    "\n",
    "- Roulette selection: each individual is selected with probability proportional to its fitness. In this case, we have a function that needs to be minimized, i.e., the wheights are the inverse of the fitness.\n",
    "\n",
    "The objective function to be minimized is the difference between two solutions. It can be written as:\n",
    "\\begin{equation}\n",
    "f(A_n,B_m) = |n - m| +  \\sum_{i = 1}^{n} \\delta_i, \\ \\ \\text{with } n\\leq m \n",
    "\\end{equation}\n",
    "Here, $A_n$ is a solution with $n$ elements, and simillarly is $B_m$, and $\\delta_i$ is a function that returns 0 if the $i$-th element from $A$ and $B$ are equal, and 1 otherwise. Note that $f(\\cdot)$ accounts for both size differences and element wise differences."
   ]
  },
  {
   "cell_type": "markdown",
   "id": "a195d138-ea3f-473e-b7fa-7a80107293cd",
   "metadata": {},
   "source": [
    "## Simulations"
   ]
  },
  {
   "cell_type": "markdown",
   "id": "45a68ee0-bcb6-492b-8731-fcb96b56b387",
   "metadata": {},
   "source": [
    "Defining the constants of the problem, which can be modified."
   ]
  },
  {
   "cell_type": "code",
   "execution_count": 68,
   "id": "44420069-2ab5-46f6-873c-6ca7b4854df5",
   "metadata": {},
   "outputs": [],
   "source": [
    "INDIVIDUAL_SIZE = [1, 30]\n",
    "\n",
    "GENERATIONS = 400\n",
    "POPULATION_SIZE = 1000\n",
    "GENE_MUTATION_RATE = 0.1\n",
    "SIZE_MUTATION_RATE = 0.1\n",
    "CROSSOVER_RATE = 0.5"
   ]
  },
  {
   "cell_type": "markdown",
   "id": "6e990d53-f6bb-4617-9424-01f96a0b5d49",
   "metadata": {},
   "source": [
    "Generating the keyword `KW` and the initial population."
   ]
  },
  {
   "cell_type": "code",
   "execution_count": 69,
   "id": "7e63a1a9-6414-4381-9b72-6f44e68658d9",
   "metadata": {},
   "outputs": [
    {
     "name": "stdout",
     "output_type": "stream",
     "text": [
      "The exact solution has been found in generation 366.\n"
     ]
    }
   ],
   "source": [
    "KW = individual_kw(INDIVIDUAL_SIZE)\n",
    "population = population_kw(POPULATION_SIZE, INDIVIDUAL_SIZE)\n",
    "hof = []\n",
    "i = 0\n",
    "\n",
    "start = timeit.default_timer()\n",
    "\n",
    "while i < GENERATIONS:\n",
    "    #Checking to see if we have the keyword\n",
    "    if KW in population:\n",
    "        print(f'The exact solution has been found in generation {i}.')\n",
    "        solution = KW\n",
    "        break\n",
    "    \n",
    "    #Fitness calculation and selection\n",
    "    fitness = population_fitness_kw(population, KW)\n",
    "    selected_population = roulette_selection_kw(population, fitness)\n",
    "    \n",
    "    #Crossover\n",
    "    crossover_population = population_size_adaptative_crossover_kw(selected_population, CROSSOVER_RATE)\n",
    "    \n",
    "    #Gene and size mutation\n",
    "    size_mutated_population = population_size_mutation_kw(crossover_population, INDIVIDUAL_SIZE, SIZE_MUTATION_RATE)\n",
    "    gene_mutated_population = population_gene_mutation_kw(size_mutated_population, GENE_MUTATION_RATE)\n",
    "    \n",
    "    #Checking to see if we have the keyword\n",
    "    if KW in population:\n",
    "        print(f'The exact solution has been found in generation {i}.')\n",
    "        solution = KW\n",
    "        break\n",
    "    \n",
    "    #HOF atualization\n",
    "    fitness = population_fitness_kw(gene_mutated_population, KW)\n",
    "    best_fitness = min(fitness)\n",
    "    index = fitness.index(best_fitness)\n",
    "    best_individual = gene_mutated_population[index]\n",
    "    hof.append(best_individual)\n",
    "        \n",
    "    #Restarting the population\n",
    "    population = gene_mutated_population\n",
    "    i += 1\n",
    "\n",
    "end = timeit.default_timer()"
   ]
  },
  {
   "cell_type": "markdown",
   "id": "7ce3a6a8-0e50-49bc-9ce1-16d6410ecfa1",
   "metadata": {},
   "source": [
    "Printing some information about our simulation."
   ]
  },
  {
   "cell_type": "code",
   "execution_count": 71,
   "id": "77f88249-354f-412c-91e4-8fd6f2297da2",
   "metadata": {},
   "outputs": [
    {
     "name": "stdout",
     "output_type": "stream",
     "text": [
      "solution: jcRt32BCVKA3x7ghdufPNcCQ, len=24\n",
      "\n",
      "keyword: jcRt32BCVKA3x7ghdufPNcCQ, len=24\n",
      "\n",
      "best_fitness=0\n",
      "\n",
      "runtime=8.066s\n"
     ]
    }
   ],
   "source": [
    "fitness = population_fitness_kw(hof, KW)\n",
    "best_fitness = min(fitness)\n",
    "index = fitness.index(best_fitness)\n",
    "solution = hof[index]\n",
    "\n",
    "solution_str = ''\n",
    "keyword_str = ''\n",
    "\n",
    "for i in solution:\n",
    "    solution_str += i\n",
    "    \n",
    "for i in KW:\n",
    "    keyword_str += i\n",
    "\n",
    "print(f'solution: {solution_str}, len={len(solution_str)}')\n",
    "print()\n",
    "print(f'keyword: {keyword_str}, len={len(keyword_str)}')\n",
    "print()\n",
    "print(f'best_fitness={best_fitness}')\n",
    "print()\n",
    "print(f'runtime={(end - start):.3f}s')"
   ]
  },
  {
   "cell_type": "markdown",
   "id": "a1ef289c-fdd6-4800-b6da-f3ddfe63d9c4",
   "metadata": {},
   "source": [
    "## Statistics"
   ]
  },
  {
   "cell_type": "markdown",
   "id": "e49700ce-b94a-40ee-9ba3-ea981ce84199",
   "metadata": {},
   "source": [
    "Lastly, we will simulate 100 keywords, and calculate some statistics for the performance of our GA. "
   ]
  },
  {
   "cell_type": "code",
   "execution_count": 64,
   "id": "b10008b0-5fa7-44c1-8c36-ff77c24bef0d",
   "metadata": {},
   "outputs": [],
   "source": [
    "KEYWORDS = [individual_kw(INDIVIDUAL_SIZE) for _ in range(100)]\n",
    "SOLUTIONS = []\n",
    "FITNESS = []\n",
    "RUNTIME = []\n",
    "\n",
    "for KW in KEYWORDS:\n",
    "    population = population_kw(POPULATION_SIZE, INDIVIDUAL_SIZE)\n",
    "    hof = []\n",
    "    i = 0\n",
    "\n",
    "    start = timeit.default_timer()\n",
    "\n",
    "    while i < GENERATIONS:\n",
    "        #Checking to see if we have the keyword\n",
    "        if KW in population:\n",
    "            SOLUTIONS.append(KW)\n",
    "            FITNESS.append(0)\n",
    "            break\n",
    "\n",
    "        #Fitness calculation and selection\n",
    "        fitness = population_fitness_kw(population, KW)\n",
    "        selected_population = roulette_selection_kw(population, fitness)\n",
    "\n",
    "        #Crossover\n",
    "        crossover_population = population_size_adaptative_crossover_kw(selected_population, CROSSOVER_RATE)\n",
    "\n",
    "        #Gene and size mutation\n",
    "        size_mutated_population = population_size_mutation_kw(crossover_population, INDIVIDUAL_SIZE, SIZE_MUTATION_RATE)\n",
    "        gene_mutated_population = population_gene_mutation_kw(size_mutated_population, GENE_MUTATION_RATE)\n",
    "\n",
    "        #Checking to see if we have the keyword\n",
    "        if KW in population:\n",
    "            SOLUTIONS.append(KW)\n",
    "            FITNESS.append(0)\n",
    "            break\n",
    "\n",
    "        #HOF atualization\n",
    "        fitness = population_fitness_kw(gene_mutated_population, KW)\n",
    "        best_fitness = min(fitness)\n",
    "        index = fitness.index(best_fitness)\n",
    "        best_individual = gene_mutated_population[index]\n",
    "        hof.append(best_individual)\n",
    "\n",
    "        #Restarting the population\n",
    "        population = gene_mutated_population\n",
    "        i += 1\n",
    "\n",
    "    end = timeit.default_timer()\n",
    "    \n",
    "    if KW not in population:\n",
    "        SOLUTIONS.append(best_individual)\n",
    "        FITNESS.append(best_fitness)\n",
    "    \n",
    "    RUNTIME.append(end - start)"
   ]
  },
  {
   "cell_type": "code",
   "execution_count": 77,
   "id": "31f62d45-d8c7-4a2a-85e4-52cb22f7c990",
   "metadata": {},
   "outputs": [],
   "source": [
    "runtime_mean = sum(RUNTIME) / len(RUNTIME)\n",
    "runtime_std = sum([(i - runtime_mean)**2 for i in RUNTIME]) * (1 / (len(RUNTIME)))\n",
    "\n",
    "fitness_mean = sum(FITNESS) / len(FITNESS)\n",
    "fitness_std = sum([(i - fitness_mean)**2 for i in FITNESS]) * (1 / (len(FITNESS)))"
   ]
  },
  {
   "cell_type": "code",
   "execution_count": 78,
   "id": "0a8e7909-aa10-4169-8306-dc53bc685032",
   "metadata": {},
   "outputs": [
    {
     "name": "stdout",
     "output_type": "stream",
     "text": [
      "The mean runtime was 4.144s +- 11.289s\n",
      "\n",
      "The mean fitness was 1.980 +- 22.220\n"
     ]
    }
   ],
   "source": [
    "print(f'The mean runtime was {runtime_mean:.3f}s +- {runtime_std:.3f}s')\n",
    "print()\n",
    "print(f'The mean fitness was {fitness_mean:.3f} +- {fitness_std:.3f}')"
   ]
  },
  {
   "cell_type": "code",
   "execution_count": 98,
   "id": "61116924-5dd3-4150-b989-afd6c1532d75",
   "metadata": {},
   "outputs": [
    {
     "data": {
      "image/png": "[encoded data removed]",
      "text/plain": [
       "<Figure size 640x480 with 1 Axes>"
      ]
     },
     "metadata": {},
     "output_type": "display_data"
    }
   ],
   "source": [
    "import matplotlib.pyplot as plt\n",
    "\n",
    "plt.hist(RUNTIME, bins=15, edgecolor='k')\n",
    "plt.axvline(runtime_mean, linestyle='--', color='red', label='Mean')\n",
    "plt.xlabel('Seconds (s)')\n",
    "plt.ylabel('Frequency')\n",
    "plt.title('Runtime histogram')\n",
    "plt.legend()\n",
    "plt.show()"
   ]
  },
  {
   "cell_type": "code",
   "execution_count": 99,
   "id": "23fc86f0-7184-4b43-930b-9011655430f8",
   "metadata": {},
   "outputs": [
    {
     "data": {
      "image/png": "[encoded data removed]",
      "text/plain": [
       "<Figure size 640x480 with 1 Axes>"
      ]
     },
     "metadata": {},
     "output_type": "display_data"
    }
   ],
   "source": [
    "plt.hist(FITNESS, bins=15, edgecolor='k')\n",
    "plt.axvline(fitness_mean, linestyle='--', color='red', label='Mean')\n",
    "plt.xlabel('Fitness')\n",
    "plt.ylabel('Frequency')\n",
    "plt.title('Fitness histogram')\n",
    "plt.legend()\n",
    "plt.show()"
   ]
  }
 ],
 "metadata": {
  "kernelspec": {
   "display_name": "ilumpy",
   "language": "python",
   "name": "ilumpy"
  },
  "language_info": {
   "codemirror_mode": {
    "name": "ipython",
    "version": 3
   },
   "file_extension": ".py",
   "mimetype": "text/x-python",
   "name": "python",
   "nbconvert_exporter": "python",
   "pygments_lexer": "ipython3",
   "version": "3.10.8"
  }
 },
 "nbformat": 4,
 "nbformat_minor": 5
}
